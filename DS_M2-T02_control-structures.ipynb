{
 "cells": [
  {
   "cell_type": "markdown",
   "id": "50b9d0f8-0aea-4103-8e68-3d5eb3a16032",
   "metadata": {},
   "source": [
    "##### Cristina Cosma\n",
    "# **DATA SCIENCE**\n",
    "## Tasca M2 T02 - Exercicis d'estructures de control amb Python\n",
    "\n",
    "* Ús de condicionals i bucles\n",
    "* Aprendre a utilitzar if/else/elif\n",
    "* Creació de funcions"
   ]
  },
  {
   "cell_type": "markdown",
   "id": "f0ef55cf-bb51-430b-88ee-16ecaf41f11e",
   "metadata": {},
   "source": [
    "#### **EXERCICI 1**\n",
    "**Crear una funció que et classifiqui una variable numèrica en funció de l’escala : \n",
    "Suspès < 5, Aprovat > 5 i < 7, Notable > 7 i < 9, Excel·lent > 9.**\n",
    "\n",
    "*Solució :*       "
   ]
  },
  {
   "cell_type": "code",
   "execution_count": 1,
   "id": "fed8fd5a-8aef-4774-91a0-fae1afbdca3a",
   "metadata": {},
   "outputs": [
    {
     "name": "stdout",
     "output_type": "stream",
     "text": [
      "Notable\n",
      "Suspès\n"
     ]
    }
   ],
   "source": [
    "def calificar_nota(nota):\n",
    "    if nota >=9:\n",
    "        print(\"Excel·lent\")\n",
    "    elif nota >=7:\n",
    "        print(\"Notable\")\n",
    "    elif nota >=5:\n",
    "        print(\"Aprovat\")\n",
    "    else:\n",
    "        print(\"Suspès\")\n",
    "        \n",
    "# calificar_nota(nota)\n",
    "calificar_nota(8.5)\n",
    "calificar_nota(4.5)"
   ]
  },
  {
   "cell_type": "markdown",
   "id": "ba7f69a4-7c71-4dc2-94cb-878bdd46edcf",
   "metadata": {
    "tags": []
   },
   "source": [
    "#### **EXERCICI 2**\n",
    "**Utilitzant el següent tutorial (->Programiz: Python Input, Output and Import) crea una funció que et pregunti dos números. T’ha de mostrar un missatge dient si el primer és més gran, el segon és més gran o són iguals.**\n",
    "\n",
    "*Solució :*\n"
   ]
  },
  {
   "cell_type": "code",
   "execution_count": 2,
   "id": "3fd277c4-8076-4616-bab6-0f5f781d3bb8",
   "metadata": {},
   "outputs": [
    {
     "name": "stdout",
     "output_type": "stream",
     "text": [
      "ESCULL 2 NÚMEROS.\n",
      "En cas de ser decimals, utilitza el format següent : a.b\n"
     ]
    },
    {
     "name": "stdin",
     "output_type": "stream",
     "text": [
      "Escull el primer número\n",
      " ->  55.8\n"
     ]
    },
    {
     "name": "stdout",
     "output_type": "stream",
     "text": [
      "Has escollit: 55.8\n"
     ]
    },
    {
     "name": "stdin",
     "output_type": "stream",
     "text": [
      "Escull el segón número\n",
      " ->  1001.2\n"
     ]
    },
    {
     "name": "stdout",
     "output_type": "stream",
     "text": [
      "Has escollit: 1001.2\n",
      "El valor de 55.8 es més petit que 1001.2\n"
     ]
    }
   ],
   "source": [
    "print('ESCULL 2 NÚMEROS.\\nEn cas de ser decimals, utilitza el format següent : a.b')\n",
    "\n",
    "num1 = float(input('Escull el primer número\\n -> '))\n",
    "print('Has escollit:', num1)\n",
    "\n",
    "num2 = float(input('Escull el segón número\\n -> '))\n",
    "print('Has escollit:', num2)\n",
    "\n",
    "# usando str.format() method\n",
    "if num1<num2:\n",
    "    print(\"El valor de {} es més petit que {}\".format(num1,num2))     \n",
    "elif num1>num2:\n",
    "    print(\"El valor de {} es més gran que {}\".format(num1,num2))\n",
    "else:\n",
    "    print(f\"El valor de {num1} es igual que {num2}\")\n"
   ]
  },
  {
   "cell_type": "code",
   "execution_count": 3,
   "id": "16ad22da-e94c-4cbe-aa89-93e380b04623",
   "metadata": {},
   "outputs": [
    {
     "name": "stdout",
     "output_type": "stream",
     "text": [
      "num1 es de tipo <class 'float'>\n",
      "num2 es de tipo <class 'float'>\n"
     ]
    }
   ],
   "source": [
    "print('num1 es de tipo', type(num1)) \n",
    "print('num2 es de tipo', type(num2))"
   ]
  },
  {
   "cell_type": "markdown",
   "id": "1f37b681-56cd-4029-b28f-555863ac611f",
   "metadata": {},
   "source": [
    "#### **EXERCICI 3**\n",
    "**Crea una funció que et pregunti el teu nom, i et demani un número. Si el número és 0, hauria de mostrar un missatge d’error. En cas contrari, hauria de mostrar el nom repetit tants cops com indiqui el número. Per exemple, “Joan Joan Joan”.**\n",
    "\n",
    "*Solució :*          "
   ]
  },
  {
   "cell_type": "code",
   "execution_count": 1,
   "id": "8b202ecb-1c39-4a05-ac4a-97dc16e2716f",
   "metadata": {},
   "outputs": [
    {
     "name": "stdout",
     "output_type": "stream",
     "text": [
      "Hola, com et dius ?\n",
      "\n"
     ]
    },
    {
     "name": "stdin",
     "output_type": "stream",
     "text": [
      "Nom :\n",
      " ->  Cristina\n"
     ]
    },
    {
     "name": "stdout",
     "output_type": "stream",
     "text": [
      "Hola Cristina !\n",
      "\n"
     ]
    },
    {
     "name": "stdin",
     "output_type": "stream",
     "text": [
      "Escull un número entero\n",
      " ->  6\n"
     ]
    },
    {
     "name": "stdout",
     "output_type": "stream",
     "text": [
      "Has escollit 6\n",
      "Cristina Cristina Cristina Cristina Cristina Cristina \n"
     ]
    }
   ],
   "source": [
    "print('Hola, com et dius ?\\n')\n",
    "\n",
    "user_name=(input('Nom :\\n -> '))\n",
    "print('Hola', user_name,'!\\n')\n",
    "user_number = int(input('Escull un número entero\\n -> '))\n",
    "           \n",
    "print('Has escollit', user_number)\n",
    "           \n",
    "if user_number > 0:\n",
    "    print((user_name+\" \")* user_number)\n",
    "else:\n",
    "    if user_number==0 or user_number < 0:\n",
    "        print(\"Error! Usar un valor NO NULO y POSITIVO\")   \n"
   ]
  },
  {
   "cell_type": "markdown",
   "id": "5966309b-cc3f-4045-ad5a-3909f347a652",
   "metadata": {},
   "source": [
    "#### **EXERCICI 4**\n",
    "**Crea una funció que donada una llista qualsevol, et digui si és simètrica o no. Si ho és, que et digui quants elements té.**\n",
    "\n",
    "*Solució a) : amb un exemple de llista generada automaticament amb la funció \"random\"*  "
   ]
  },
  {
   "cell_type": "code",
   "execution_count": 13,
   "id": "0d894cf0-fa26-465a-be47-80da230f7d4a",
   "metadata": {},
   "outputs": [
    {
     "data": {
      "text/plain": [
       "[20, 77, 31, 64, 10, 76, 70, 100, 25, 33]"
      ]
     },
     "execution_count": 13,
     "metadata": {},
     "output_type": "execute_result"
    }
   ],
   "source": [
    "import random\n",
    "rand_list= random.sample(range(1, 101), 10)\n",
    "rand_list"
   ]
  },
  {
   "cell_type": "code",
   "execution_count": 14,
   "id": "5308988a-a560-42d8-91fc-a058b0f38b6e",
   "metadata": {},
   "outputs": [
    {
     "name": "stdout",
     "output_type": "stream",
     "text": [
      "False\n"
     ]
    }
   ],
   "source": [
    "def is_symmetric(rand_list):\n",
    "    start = 0\n",
    "    end = len(rand_list) - 1\n",
    "    \n",
    "    while start < end:\n",
    "        if rand_list[start] != rand_list[end]:\n",
    "            return False\n",
    "        start += 1\n",
    "        end -= 1\n",
    "    \n",
    "    return True\n",
    "\n",
    "print(is_symmetric(rand_list))"
   ]
  },
  {
   "cell_type": "markdown",
   "id": "37c7f28b-747c-417e-9fec-fbbf9df79184",
   "metadata": {},
   "source": [
    "\n",
    "*Solució b) : amb un exemple de llista generada manualment*  "
   ]
  },
  {
   "cell_type": "code",
   "execution_count": 15,
   "id": "879f9f40-a026-442b-b658-3479d5d68615",
   "metadata": {},
   "outputs": [
    {
     "name": "stdout",
     "output_type": "stream",
     "text": [
      "True\n"
     ]
    }
   ],
   "source": [
    "lista = [5, 4, 3, 2, \"pepe\", 2, 3, 4, 5]\n",
    "\n",
    "def is_symmetric(lista):\n",
    "    start = 0\n",
    "    end = len(lst) - 1\n",
    "    \n",
    "    while start < end:\n",
    "        if lst[start] != lista[end]:\n",
    "            return False\n",
    "        start += 1\n",
    "        end -= 1\n",
    "    \n",
    "    return True\n",
    "\n",
    "print(is_symmetric(lista))"
   ]
  },
  {
   "cell_type": "markdown",
   "id": "9da67bac-c798-43a3-93bd-a08aa5cc1e8e",
   "metadata": {},
   "source": [
    "*Solució c) : amb un exemple de llista de decimals (float), generada automaticament*  "
   ]
  },
  {
   "cell_type": "code",
   "execution_count": 18,
   "id": "88cd330a-0f87-4585-bf0c-a05910fe8c77",
   "metadata": {},
   "outputs": [
    {
     "data": {
      "text/plain": [
       "[47.23297117319905,\n",
       " 8.598801664762789,\n",
       " 30.635808669467878,\n",
       " 48.98821639417149,\n",
       " 99.70295567848638,\n",
       " 73.82711391185207,\n",
       " 48.83310580185761,\n",
       " 5.957963841750946,\n",
       " 67.09051124296616,\n",
       " 52.42323614829944]"
      ]
     },
     "execution_count": 18,
     "metadata": {},
     "output_type": "execute_result"
    }
   ],
   "source": [
    "import random\n",
    "import numpy as np\n",
    "rand_list_float=np.random.uniform(low=0, high=100, size=10).tolist()\n",
    "rand_list_float"
   ]
  },
  {
   "cell_type": "code",
   "execution_count": 20,
   "id": "02c5f0d2-b33c-487d-ac8b-04f84aaf12fb",
   "metadata": {},
   "outputs": [
    {
     "name": "stdout",
     "output_type": "stream",
     "text": [
      "False\n"
     ]
    }
   ],
   "source": [
    "def is_symmetric(rand_list_float):\n",
    "    start = 0\n",
    "    end = len(lst) - 1\n",
    "    \n",
    "    while start < end:\n",
    "        if lst[start] != rand_list_float[end]:\n",
    "            return False\n",
    "        start += 1\n",
    "        end -= 1\n",
    "    \n",
    "    return True\n",
    "\n",
    "print(is_symmetric(rand_list_float))"
   ]
  },
  {
   "cell_type": "markdown",
   "id": "f197fa55-beed-42f7-b28b-d2ea74796fda",
   "metadata": {},
   "source": [
    "#### **EXERCICI 5**\n",
    "**Crea una funció que donada una llista, et digui quants números coincideixen amb la seva posició. Per exemple [3,4,2,0,2,3,6] el 2 i el 6 coincideixen.**\n",
    "\n",
    "*Solució 1:*  "
   ]
  },
  {
   "cell_type": "code",
   "execution_count": 2,
   "id": "fa7a2954-0107-40fb-8115-718a51368a9e",
   "metadata": {},
   "outputs": [
    {
     "name": "stdout",
     "output_type": "stream",
     "text": [
      "[0, 4]\n"
     ]
    }
   ],
   "source": [
    "lista_num = [0, 4, 3, 2, 4, 2, 3, 4, 0]\n",
    "\n",
    "coincidence = [x for i, x in enumerate(lista_num) if i == x] #indice\n",
    "print(coincidence)"
   ]
  },
  {
   "cell_type": "markdown",
   "id": "405a23ba-36fa-481c-8f8b-1f86af93fe20",
   "metadata": {},
   "source": [
    "*Solució 2:*  "
   ]
  },
  {
   "cell_type": "code",
   "execution_count": 4,
   "id": "ee65f998-9023-4902-9d25-0d4a5c1cbdcd",
   "metadata": {},
   "outputs": [
    {
     "name": "stdout",
     "output_type": "stream",
     "text": [
      "[0, 4]\n"
     ]
    }
   ],
   "source": [
    "newlist=[]\n",
    "for i, x in enumerate(lista_num):\n",
    "    if x == i:\n",
    "        newlist.append(x)\n",
    "\n",
    "print(newlist)"
   ]
  }
 ],
 "metadata": {
  "kernelspec": {
   "display_name": "Python 3 (ipykernel)",
   "language": "python",
   "name": "python3"
  },
  "language_info": {
   "codemirror_mode": {
    "name": "ipython",
    "version": 3
   },
   "file_extension": ".py",
   "mimetype": "text/x-python",
   "name": "python",
   "nbconvert_exporter": "python",
   "pygments_lexer": "ipython3",
   "version": "3.9.13"
  }
 },
 "nbformat": 4,
 "nbformat_minor": 5
}
